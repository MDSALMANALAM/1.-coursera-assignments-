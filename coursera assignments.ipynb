{
 "cells": [
  {
   "cell_type": "markdown",
   "id": "4850a057-9795-4977-9fa4-004df37b6093",
   "metadata": {},
   "source": [
    "# Data Science Final Project"
   ]
  },
  {
   "cell_type": "markdown",
   "id": "554142e0-7c58-4bca-b2c9-d058517078df",
   "metadata": {},
   "source": [
    "## Introduction\n",
    "\n",
    "This notebook provides an overview of data science languages, libraries, and tools. It also demonstrates basic arithmetic operations and unit conversions relevant to data science.\n"
   ]
  },
  {
   "cell_type": "markdown",
   "id": "88a86642-b8da-41de-a795-26f5ccbf5fdb",
   "metadata": {},
   "source": [
    "## Data Science Languages\n",
    "\n",
    "- Python  \n",
    "- R  \n",
    "- SQL  \n",
    "- Julia  \n",
    "- Scala\n"
   ]
  },
  {
   "cell_type": "markdown",
   "id": "f0365e7c-dc4b-4b29-94e3-85927195eedb",
   "metadata": {},
   "source": [
    "## Data Science Tools\n",
    "\n",
    "| Tool Name       | Purpose                  | Type            |\n",
    "|-----------------|--------------------------|-----------------|\n",
    "| Jupyter Notebook| Interactive coding       | Notebook        |\n",
    "| RStudio         | R programming environment| IDE             |\n",
    "| Apache Spark    | Big data processing      | Framework       |\n",
    "| Tableau         | Data visualization       | Visualization   |\n",
    "| GitHub          | Version control          | Collaboration   |\n"
   ]
  },
  {
   "cell_type": "markdown",
   "id": "97e363e8-548a-4228-a8a1-63d1bef1fee8",
   "metadata": {},
   "source": [
    "## Arithmetic Expressions Examples\n",
    "\n",
    "The following examples demonstrate basic arithmetic operations in Python.\n",
    "\n",
    "addition +\n",
    "substract -\n",
    "multiply*\n"
   ]
  },
  {
   "cell_type": "code",
   "execution_count": 7,
   "id": "8f3efeb4-8f0f-496f-88ec-4f9f51e2abda",
   "metadata": {},
   "outputs": [
    {
     "name": "stdout",
     "output_type": "stream",
     "text": [
      "45\n"
     ]
    }
   ],
   "source": [
    "# Multiply 5 by 7, then add 10\n",
    "result = 5 * 7 + 10\n",
    "print(result)\n"
   ]
  },
  {
   "cell_type": "code",
   "execution_count": 6,
   "id": "7f74753b-8763-4854-828d-bd729b49129a",
   "metadata": {},
   "outputs": [
    {
     "name": "stdout",
     "output_type": "stream",
     "text": [
      "120 minutes is equal to 2.0 hours.\n"
     ]
    }
   ],
   "source": [
    "# Convert minutes to hours\n",
    "minutes = 120\n",
    "hours = minutes / 60\n",
    "print(f\"{minutes} minutes is equal to {hours} hours.\")\n"
   ]
  },
  {
   "cell_type": "markdown",
   "id": "cac2a823-60c2-42dc-91bf-9eeb0a7e0daa",
   "metadata": {},
   "source": [
    "## Objectives\n",
    "\n",
    "- Understand key data science languages and libraries  \n",
    "- Learn to perform basic arithmetic operations in Python  \n",
    "- Practice unit conversion and simple programming tasks  \n",
    "- Share work using GitHub for collaboration\n"
   ]
  },
  {
   "cell_type": "markdown",
   "id": "92dfd5ce-16ff-4467-900b-994c0664603a",
   "metadata": {},
   "source": [
    "## Author\n",
    "\n",
    "Md Salman Alam\n"
   ]
  },
  {
   "cell_type": "code",
   "execution_count": null,
   "id": "4e54d6c9-f733-4c03-b85d-fdffa6830515",
   "metadata": {},
   "outputs": [],
   "source": []
  },
  {
   "cell_type": "code",
   "execution_count": null,
   "id": "da47f374-31e5-43b4-8036-212c21ce77e0",
   "metadata": {},
   "outputs": [],
   "source": []
  },
  {
   "cell_type": "code",
   "execution_count": null,
   "id": "5dc4280f-0807-4eb1-ad42-e5492aaba5ad",
   "metadata": {},
   "outputs": [],
   "source": []
  },
  {
   "cell_type": "code",
   "execution_count": null,
   "id": "311a31b0-2988-4338-b3d5-7073db3cae5f",
   "metadata": {},
   "outputs": [],
   "source": []
  }
 ],
 "metadata": {
  "kernelspec": {
   "display_name": "Python 3 (ipykernel)",
   "language": "python",
   "name": "python3"
  },
  "language_info": {
   "codemirror_mode": {
    "name": "ipython",
    "version": 3
   },
   "file_extension": ".py",
   "mimetype": "text/x-python",
   "name": "python",
   "nbconvert_exporter": "python",
   "pygments_lexer": "ipython3",
   "version": "3.12.7"
  }
 },
 "nbformat": 4,
 "nbformat_minor": 5
}
